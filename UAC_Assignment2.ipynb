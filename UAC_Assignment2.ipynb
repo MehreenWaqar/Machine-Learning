{
  "nbformat": 4,
  "nbformat_minor": 0,
  "metadata": {
    "colab": {
      "name": "Untitled1.ipynb",
      "provenance": [],
      "authorship_tag": "ABX9TyPr+eLiJCPV+0J5WPNPYBML",
      "include_colab_link": true
    },
    "kernelspec": {
      "name": "python3",
      "display_name": "Python 3"
    },
    "language_info": {
      "name": "python"
    }
  },
  "cells": [
    {
      "cell_type": "markdown",
      "metadata": {
        "id": "view-in-github",
        "colab_type": "text"
      },
      "source": [
        "<a href=\"https://colab.research.google.com/github/MehreenWaqar/Machine-Learning/blob/main/UAC_Assignment2.ipynb\" target=\"_parent\"><img src=\"https://colab.research.google.com/assets/colab-badge.svg\" alt=\"Open In Colab\"/></a>"
      ]
    },
    {
      "cell_type": "code",
      "metadata": {
        "id": "bOlOeQ6SjZft"
      },
      "source": [
        "import numpy as np\n",
        "import matplotlib.pyplot as plt\n",
        "import seaborn as sns\n",
        "import pandas as pd\n",
        "from sklearn import preprocessing\n",
        "from sklearn.preprocessing import StandardScaler\n",
        "from sklearn.metrics import confusion_matrix\n",
        "from sklearn.model_selection import KFold\n",
        "from sklearn import linear_model\n",
        "from sklearn import tree\n",
        "from sklearn.linear_model import Ridge\n",
        "from sklearn.metrics import accuracy_score\n",
        "from sklearn.metrics import mean_squared_error\n",
        "from sklearn.ensemble import RandomForestRegressor\n",
        "from sklearn.datasets import make_regression\n",
        "from sklearn.linear_model import LogisticRegression\n",
        "from sklearn.discriminant_analysis import LinearDiscriminantAnalysis\n",
        "from sklearn import svm\n",
        "from sklearn import utils\n",
        "from keras.models import Sequential\n",
        "from keras.layers import Dense\n",
        "\n",
        "from datetime import datetime"
      ],
      "execution_count": 3,
      "outputs": []
    },
    {
      "cell_type": "code",
      "metadata": {
        "colab": {
          "resources": {
            "http://localhost:8080/nbextensions/google.colab/files.js": {
              "data": "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",
              "ok": true,
              "headers": [
                [
                  "content-type",
                  "application/javascript"
                ]
              ],
              "status": 200,
              "status_text": ""
            }
          },
          "base_uri": "https://localhost:8080/",
          "height": 72
        },
        "id": "9kNObyQijeUg",
        "outputId": "729c1f43-0850-44f8-ebd9-d9b90ffb35f6"
      },
      "source": [
        "start_time = datetime.now()\n",
        "from google.colab import files\n",
        "uploaded = files.upload()\n",
        "import io\n",
        "data = pd.read_csv(io.BytesIO(uploaded['smart_grid_stability_augmented.csv']))\n",
        "# data = pd.read_csv('https://www.kaggle.com/pcbreviglieri/smart-grid-stability')\n",
        "\n",
        "map1 = {'unstable': 0, 'stable': 1}\n",
        "data['stabf'] = data['stabf'].replace(map1)\n",
        "\n",
        "data = data.sample(frac=1)"
      ],
      "execution_count": 4,
      "outputs": [
        {
          "output_type": "display_data",
          "data": {
            "text/html": [
              "\n",
              "     <input type=\"file\" id=\"files-ab754108-7a26-4147-a5da-7403065d1141\" name=\"files[]\" multiple disabled\n",
              "        style=\"border:none\" />\n",
              "     <output id=\"result-ab754108-7a26-4147-a5da-7403065d1141\">\n",
              "      Upload widget is only available when the cell has been executed in the\n",
              "      current browser session. Please rerun this cell to enable.\n",
              "      </output>\n",
              "      <script src=\"/nbextensions/google.colab/files.js\"></script> "
            ],
            "text/plain": [
              "<IPython.core.display.HTML object>"
            ]
          },
          "metadata": {
            "tags": []
          }
        },
        {
          "output_type": "stream",
          "text": [
            "Saving smart_grid_stability_augmented.csv to smart_grid_stability_augmented.csv\n"
          ],
          "name": "stdout"
        }
      ]
    },
    {
      "cell_type": "code",
      "metadata": {
        "colab": {
          "base_uri": "https://localhost:8080/",
          "height": 439
        },
        "id": "W1RYigBuk-pp",
        "outputId": "b5a17f69-826b-41f1-e19a-b4182ce9c320"
      },
      "source": [
        "data"
      ],
      "execution_count": 5,
      "outputs": [
        {
          "output_type": "execute_result",
          "data": {
            "text/html": [
              "<div>\n",
              "<style scoped>\n",
              "    .dataframe tbody tr th:only-of-type {\n",
              "        vertical-align: middle;\n",
              "    }\n",
              "\n",
              "    .dataframe tbody tr th {\n",
              "        vertical-align: top;\n",
              "    }\n",
              "\n",
              "    .dataframe thead th {\n",
              "        text-align: right;\n",
              "    }\n",
              "</style>\n",
              "<table border=\"1\" class=\"dataframe\">\n",
              "  <thead>\n",
              "    <tr style=\"text-align: right;\">\n",
              "      <th></th>\n",
              "      <th>tau1</th>\n",
              "      <th>tau2</th>\n",
              "      <th>tau3</th>\n",
              "      <th>tau4</th>\n",
              "      <th>p1</th>\n",
              "      <th>p2</th>\n",
              "      <th>p3</th>\n",
              "      <th>p4</th>\n",
              "      <th>g1</th>\n",
              "      <th>g2</th>\n",
              "      <th>g3</th>\n",
              "      <th>g4</th>\n",
              "      <th>stab</th>\n",
              "      <th>stabf</th>\n",
              "    </tr>\n",
              "  </thead>\n",
              "  <tbody>\n",
              "    <tr>\n",
              "      <th>12543</th>\n",
              "      <td>2.755361</td>\n",
              "      <td>1.724739</td>\n",
              "      <td>5.681498</td>\n",
              "      <td>6.289436</td>\n",
              "      <td>2.619851</td>\n",
              "      <td>-0.624212</td>\n",
              "      <td>-1.194526</td>\n",
              "      <td>-0.801113</td>\n",
              "      <td>0.892151</td>\n",
              "      <td>0.381306</td>\n",
              "      <td>0.324954</td>\n",
              "      <td>0.135862</td>\n",
              "      <td>-0.035430</td>\n",
              "      <td>1</td>\n",
              "    </tr>\n",
              "    <tr>\n",
              "      <th>44545</th>\n",
              "      <td>5.299072</td>\n",
              "      <td>4.409123</td>\n",
              "      <td>1.594429</td>\n",
              "      <td>1.851446</td>\n",
              "      <td>3.259876</td>\n",
              "      <td>-1.031665</td>\n",
              "      <td>-0.879518</td>\n",
              "      <td>-1.348693</td>\n",
              "      <td>0.211783</td>\n",
              "      <td>0.517309</td>\n",
              "      <td>0.262834</td>\n",
              "      <td>0.139093</td>\n",
              "      <td>-0.030382</td>\n",
              "      <td>1</td>\n",
              "    </tr>\n",
              "    <tr>\n",
              "      <th>49979</th>\n",
              "      <td>7.512814</td>\n",
              "      <td>2.200809</td>\n",
              "      <td>8.045889</td>\n",
              "      <td>9.616251</td>\n",
              "      <td>2.377325</td>\n",
              "      <td>-0.985733</td>\n",
              "      <td>-0.703106</td>\n",
              "      <td>-0.688485</td>\n",
              "      <td>0.118933</td>\n",
              "      <td>0.967001</td>\n",
              "      <td>0.932764</td>\n",
              "      <td>0.280216</td>\n",
              "      <td>0.018994</td>\n",
              "      <td>0</td>\n",
              "    </tr>\n",
              "    <tr>\n",
              "      <th>19281</th>\n",
              "      <td>8.197261</td>\n",
              "      <td>7.640019</td>\n",
              "      <td>8.222058</td>\n",
              "      <td>6.218469</td>\n",
              "      <td>3.315650</td>\n",
              "      <td>-1.863729</td>\n",
              "      <td>-0.644657</td>\n",
              "      <td>-0.807264</td>\n",
              "      <td>0.130433</td>\n",
              "      <td>0.635686</td>\n",
              "      <td>0.942956</td>\n",
              "      <td>0.959476</td>\n",
              "      <td>0.083177</td>\n",
              "      <td>0</td>\n",
              "    </tr>\n",
              "    <tr>\n",
              "      <th>16105</th>\n",
              "      <td>7.867904</td>\n",
              "      <td>9.152494</td>\n",
              "      <td>0.744260</td>\n",
              "      <td>9.767656</td>\n",
              "      <td>5.398027</td>\n",
              "      <td>-1.680714</td>\n",
              "      <td>-1.822225</td>\n",
              "      <td>-1.895088</td>\n",
              "      <td>0.707599</td>\n",
              "      <td>0.977310</td>\n",
              "      <td>0.755166</td>\n",
              "      <td>0.884462</td>\n",
              "      <td>0.056038</td>\n",
              "      <td>0</td>\n",
              "    </tr>\n",
              "    <tr>\n",
              "      <th>...</th>\n",
              "      <td>...</td>\n",
              "      <td>...</td>\n",
              "      <td>...</td>\n",
              "      <td>...</td>\n",
              "      <td>...</td>\n",
              "      <td>...</td>\n",
              "      <td>...</td>\n",
              "      <td>...</td>\n",
              "      <td>...</td>\n",
              "      <td>...</td>\n",
              "      <td>...</td>\n",
              "      <td>...</td>\n",
              "      <td>...</td>\n",
              "      <td>...</td>\n",
              "    </tr>\n",
              "    <tr>\n",
              "      <th>8977</th>\n",
              "      <td>4.622528</td>\n",
              "      <td>6.311079</td>\n",
              "      <td>1.447743</td>\n",
              "      <td>7.376786</td>\n",
              "      <td>3.406129</td>\n",
              "      <td>-1.676161</td>\n",
              "      <td>-0.883491</td>\n",
              "      <td>-0.846477</td>\n",
              "      <td>0.706442</td>\n",
              "      <td>0.253795</td>\n",
              "      <td>0.555306</td>\n",
              "      <td>0.334536</td>\n",
              "      <td>-0.003830</td>\n",
              "      <td>1</td>\n",
              "    </tr>\n",
              "    <tr>\n",
              "      <th>22824</th>\n",
              "      <td>8.678593</td>\n",
              "      <td>0.528542</td>\n",
              "      <td>3.655324</td>\n",
              "      <td>1.512856</td>\n",
              "      <td>3.555289</td>\n",
              "      <td>-1.536692</td>\n",
              "      <td>-1.071873</td>\n",
              "      <td>-0.946724</td>\n",
              "      <td>0.433078</td>\n",
              "      <td>0.932403</td>\n",
              "      <td>0.271944</td>\n",
              "      <td>0.445925</td>\n",
              "      <td>-0.042117</td>\n",
              "      <td>1</td>\n",
              "    </tr>\n",
              "    <tr>\n",
              "      <th>32747</th>\n",
              "      <td>6.878462</td>\n",
              "      <td>9.900298</td>\n",
              "      <td>3.404691</td>\n",
              "      <td>8.509816</td>\n",
              "      <td>4.159822</td>\n",
              "      <td>-0.990680</td>\n",
              "      <td>-1.905540</td>\n",
              "      <td>-1.263602</td>\n",
              "      <td>0.624203</td>\n",
              "      <td>0.207251</td>\n",
              "      <td>0.411861</td>\n",
              "      <td>0.540370</td>\n",
              "      <td>0.031491</td>\n",
              "      <td>0</td>\n",
              "    </tr>\n",
              "    <tr>\n",
              "      <th>41076</th>\n",
              "      <td>1.966714</td>\n",
              "      <td>8.313682</td>\n",
              "      <td>3.249799</td>\n",
              "      <td>4.751619</td>\n",
              "      <td>3.303774</td>\n",
              "      <td>-0.924143</td>\n",
              "      <td>-0.684356</td>\n",
              "      <td>-1.695274</td>\n",
              "      <td>0.983044</td>\n",
              "      <td>0.426769</td>\n",
              "      <td>0.157574</td>\n",
              "      <td>0.528520</td>\n",
              "      <td>-0.021402</td>\n",
              "      <td>1</td>\n",
              "    </tr>\n",
              "    <tr>\n",
              "      <th>14351</th>\n",
              "      <td>3.606443</td>\n",
              "      <td>7.287684</td>\n",
              "      <td>5.906712</td>\n",
              "      <td>4.935208</td>\n",
              "      <td>3.010443</td>\n",
              "      <td>-0.969029</td>\n",
              "      <td>-0.699327</td>\n",
              "      <td>-1.342087</td>\n",
              "      <td>0.481297</td>\n",
              "      <td>0.676368</td>\n",
              "      <td>0.893924</td>\n",
              "      <td>0.835562</td>\n",
              "      <td>0.085759</td>\n",
              "      <td>0</td>\n",
              "    </tr>\n",
              "  </tbody>\n",
              "</table>\n",
              "<p>60000 rows × 14 columns</p>\n",
              "</div>"
            ],
            "text/plain": [
              "           tau1      tau2      tau3  ...        g4      stab  stabf\n",
              "12543  2.755361  1.724739  5.681498  ...  0.135862 -0.035430      1\n",
              "44545  5.299072  4.409123  1.594429  ...  0.139093 -0.030382      1\n",
              "49979  7.512814  2.200809  8.045889  ...  0.280216  0.018994      0\n",
              "19281  8.197261  7.640019  8.222058  ...  0.959476  0.083177      0\n",
              "16105  7.867904  9.152494  0.744260  ...  0.884462  0.056038      0\n",
              "...         ...       ...       ...  ...       ...       ...    ...\n",
              "8977   4.622528  6.311079  1.447743  ...  0.334536 -0.003830      1\n",
              "22824  8.678593  0.528542  3.655324  ...  0.445925 -0.042117      1\n",
              "32747  6.878462  9.900298  3.404691  ...  0.540370  0.031491      0\n",
              "41076  1.966714  8.313682  3.249799  ...  0.528520 -0.021402      1\n",
              "14351  3.606443  7.287684  5.906712  ...  0.835562  0.085759      0\n",
              "\n",
              "[60000 rows x 14 columns]"
            ]
          },
          "metadata": {
            "tags": []
          },
          "execution_count": 5
        }
      ]
    },
    {
      "cell_type": "code",
      "metadata": {
        "colab": {
          "base_uri": "https://localhost:8080/",
          "height": 609
        },
        "id": "DZMVdiTzmXBS",
        "outputId": "63d1ddc5-1ed1-4389-ed45-5a4bfafe3ded"
      },
      "source": [
        "#Correlate UnitPrice\n",
        "df = pd.DataFrame(data)\n",
        "df['UnitPrice'] = float(50)\n",
        "for x in range(60000):\n",
        "  if df.stabf[x] == 0:\n",
        "   df.UnitPrice[x] = df.stab[x]/100 * 32\n",
        "  else: \n",
        "   df.UnitPrice[x] = df.stab[x]/100 * 16\n",
        "\n",
        "df"
      ],
      "execution_count": 6,
      "outputs": [
        {
          "output_type": "stream",
          "text": [
            "/usr/local/lib/python3.7/dist-packages/ipykernel_launcher.py:6: SettingWithCopyWarning: \n",
            "A value is trying to be set on a copy of a slice from a DataFrame\n",
            "\n",
            "See the caveats in the documentation: https://pandas.pydata.org/pandas-docs/stable/user_guide/indexing.html#returning-a-view-versus-a-copy\n",
            "  \n",
            "/usr/local/lib/python3.7/dist-packages/ipykernel_launcher.py:8: SettingWithCopyWarning: \n",
            "A value is trying to be set on a copy of a slice from a DataFrame\n",
            "\n",
            "See the caveats in the documentation: https://pandas.pydata.org/pandas-docs/stable/user_guide/indexing.html#returning-a-view-versus-a-copy\n",
            "  \n"
          ],
          "name": "stderr"
        },
        {
          "output_type": "execute_result",
          "data": {
            "text/html": [
              "<div>\n",
              "<style scoped>\n",
              "    .dataframe tbody tr th:only-of-type {\n",
              "        vertical-align: middle;\n",
              "    }\n",
              "\n",
              "    .dataframe tbody tr th {\n",
              "        vertical-align: top;\n",
              "    }\n",
              "\n",
              "    .dataframe thead th {\n",
              "        text-align: right;\n",
              "    }\n",
              "</style>\n",
              "<table border=\"1\" class=\"dataframe\">\n",
              "  <thead>\n",
              "    <tr style=\"text-align: right;\">\n",
              "      <th></th>\n",
              "      <th>tau1</th>\n",
              "      <th>tau2</th>\n",
              "      <th>tau3</th>\n",
              "      <th>tau4</th>\n",
              "      <th>p1</th>\n",
              "      <th>p2</th>\n",
              "      <th>p3</th>\n",
              "      <th>p4</th>\n",
              "      <th>g1</th>\n",
              "      <th>g2</th>\n",
              "      <th>g3</th>\n",
              "      <th>g4</th>\n",
              "      <th>stab</th>\n",
              "      <th>stabf</th>\n",
              "      <th>UnitPrice</th>\n",
              "    </tr>\n",
              "  </thead>\n",
              "  <tbody>\n",
              "    <tr>\n",
              "      <th>12543</th>\n",
              "      <td>2.755361</td>\n",
              "      <td>1.724739</td>\n",
              "      <td>5.681498</td>\n",
              "      <td>6.289436</td>\n",
              "      <td>2.619851</td>\n",
              "      <td>-0.624212</td>\n",
              "      <td>-1.194526</td>\n",
              "      <td>-0.801113</td>\n",
              "      <td>0.892151</td>\n",
              "      <td>0.381306</td>\n",
              "      <td>0.324954</td>\n",
              "      <td>0.135862</td>\n",
              "      <td>-0.035430</td>\n",
              "      <td>1</td>\n",
              "      <td>-0.005669</td>\n",
              "    </tr>\n",
              "    <tr>\n",
              "      <th>44545</th>\n",
              "      <td>5.299072</td>\n",
              "      <td>4.409123</td>\n",
              "      <td>1.594429</td>\n",
              "      <td>1.851446</td>\n",
              "      <td>3.259876</td>\n",
              "      <td>-1.031665</td>\n",
              "      <td>-0.879518</td>\n",
              "      <td>-1.348693</td>\n",
              "      <td>0.211783</td>\n",
              "      <td>0.517309</td>\n",
              "      <td>0.262834</td>\n",
              "      <td>0.139093</td>\n",
              "      <td>-0.030382</td>\n",
              "      <td>1</td>\n",
              "      <td>-0.004861</td>\n",
              "    </tr>\n",
              "    <tr>\n",
              "      <th>49979</th>\n",
              "      <td>7.512814</td>\n",
              "      <td>2.200809</td>\n",
              "      <td>8.045889</td>\n",
              "      <td>9.616251</td>\n",
              "      <td>2.377325</td>\n",
              "      <td>-0.985733</td>\n",
              "      <td>-0.703106</td>\n",
              "      <td>-0.688485</td>\n",
              "      <td>0.118933</td>\n",
              "      <td>0.967001</td>\n",
              "      <td>0.932764</td>\n",
              "      <td>0.280216</td>\n",
              "      <td>0.018994</td>\n",
              "      <td>0</td>\n",
              "      <td>0.006078</td>\n",
              "    </tr>\n",
              "    <tr>\n",
              "      <th>19281</th>\n",
              "      <td>8.197261</td>\n",
              "      <td>7.640019</td>\n",
              "      <td>8.222058</td>\n",
              "      <td>6.218469</td>\n",
              "      <td>3.315650</td>\n",
              "      <td>-1.863729</td>\n",
              "      <td>-0.644657</td>\n",
              "      <td>-0.807264</td>\n",
              "      <td>0.130433</td>\n",
              "      <td>0.635686</td>\n",
              "      <td>0.942956</td>\n",
              "      <td>0.959476</td>\n",
              "      <td>0.083177</td>\n",
              "      <td>0</td>\n",
              "      <td>0.026617</td>\n",
              "    </tr>\n",
              "    <tr>\n",
              "      <th>16105</th>\n",
              "      <td>7.867904</td>\n",
              "      <td>9.152494</td>\n",
              "      <td>0.744260</td>\n",
              "      <td>9.767656</td>\n",
              "      <td>5.398027</td>\n",
              "      <td>-1.680714</td>\n",
              "      <td>-1.822225</td>\n",
              "      <td>-1.895088</td>\n",
              "      <td>0.707599</td>\n",
              "      <td>0.977310</td>\n",
              "      <td>0.755166</td>\n",
              "      <td>0.884462</td>\n",
              "      <td>0.056038</td>\n",
              "      <td>0</td>\n",
              "      <td>0.017932</td>\n",
              "    </tr>\n",
              "    <tr>\n",
              "      <th>...</th>\n",
              "      <td>...</td>\n",
              "      <td>...</td>\n",
              "      <td>...</td>\n",
              "      <td>...</td>\n",
              "      <td>...</td>\n",
              "      <td>...</td>\n",
              "      <td>...</td>\n",
              "      <td>...</td>\n",
              "      <td>...</td>\n",
              "      <td>...</td>\n",
              "      <td>...</td>\n",
              "      <td>...</td>\n",
              "      <td>...</td>\n",
              "      <td>...</td>\n",
              "      <td>...</td>\n",
              "    </tr>\n",
              "    <tr>\n",
              "      <th>8977</th>\n",
              "      <td>4.622528</td>\n",
              "      <td>6.311079</td>\n",
              "      <td>1.447743</td>\n",
              "      <td>7.376786</td>\n",
              "      <td>3.406129</td>\n",
              "      <td>-1.676161</td>\n",
              "      <td>-0.883491</td>\n",
              "      <td>-0.846477</td>\n",
              "      <td>0.706442</td>\n",
              "      <td>0.253795</td>\n",
              "      <td>0.555306</td>\n",
              "      <td>0.334536</td>\n",
              "      <td>-0.003830</td>\n",
              "      <td>1</td>\n",
              "      <td>-0.000613</td>\n",
              "    </tr>\n",
              "    <tr>\n",
              "      <th>22824</th>\n",
              "      <td>8.678593</td>\n",
              "      <td>0.528542</td>\n",
              "      <td>3.655324</td>\n",
              "      <td>1.512856</td>\n",
              "      <td>3.555289</td>\n",
              "      <td>-1.536692</td>\n",
              "      <td>-1.071873</td>\n",
              "      <td>-0.946724</td>\n",
              "      <td>0.433078</td>\n",
              "      <td>0.932403</td>\n",
              "      <td>0.271944</td>\n",
              "      <td>0.445925</td>\n",
              "      <td>-0.042117</td>\n",
              "      <td>1</td>\n",
              "      <td>-0.006739</td>\n",
              "    </tr>\n",
              "    <tr>\n",
              "      <th>32747</th>\n",
              "      <td>6.878462</td>\n",
              "      <td>9.900298</td>\n",
              "      <td>3.404691</td>\n",
              "      <td>8.509816</td>\n",
              "      <td>4.159822</td>\n",
              "      <td>-0.990680</td>\n",
              "      <td>-1.905540</td>\n",
              "      <td>-1.263602</td>\n",
              "      <td>0.624203</td>\n",
              "      <td>0.207251</td>\n",
              "      <td>0.411861</td>\n",
              "      <td>0.540370</td>\n",
              "      <td>0.031491</td>\n",
              "      <td>0</td>\n",
              "      <td>0.010077</td>\n",
              "    </tr>\n",
              "    <tr>\n",
              "      <th>41076</th>\n",
              "      <td>1.966714</td>\n",
              "      <td>8.313682</td>\n",
              "      <td>3.249799</td>\n",
              "      <td>4.751619</td>\n",
              "      <td>3.303774</td>\n",
              "      <td>-0.924143</td>\n",
              "      <td>-0.684356</td>\n",
              "      <td>-1.695274</td>\n",
              "      <td>0.983044</td>\n",
              "      <td>0.426769</td>\n",
              "      <td>0.157574</td>\n",
              "      <td>0.528520</td>\n",
              "      <td>-0.021402</td>\n",
              "      <td>1</td>\n",
              "      <td>-0.003424</td>\n",
              "    </tr>\n",
              "    <tr>\n",
              "      <th>14351</th>\n",
              "      <td>3.606443</td>\n",
              "      <td>7.287684</td>\n",
              "      <td>5.906712</td>\n",
              "      <td>4.935208</td>\n",
              "      <td>3.010443</td>\n",
              "      <td>-0.969029</td>\n",
              "      <td>-0.699327</td>\n",
              "      <td>-1.342087</td>\n",
              "      <td>0.481297</td>\n",
              "      <td>0.676368</td>\n",
              "      <td>0.893924</td>\n",
              "      <td>0.835562</td>\n",
              "      <td>0.085759</td>\n",
              "      <td>0</td>\n",
              "      <td>0.027443</td>\n",
              "    </tr>\n",
              "  </tbody>\n",
              "</table>\n",
              "<p>60000 rows × 15 columns</p>\n",
              "</div>"
            ],
            "text/plain": [
              "           tau1      tau2      tau3  ...      stab  stabf  UnitPrice\n",
              "12543  2.755361  1.724739  5.681498  ... -0.035430      1  -0.005669\n",
              "44545  5.299072  4.409123  1.594429  ... -0.030382      1  -0.004861\n",
              "49979  7.512814  2.200809  8.045889  ...  0.018994      0   0.006078\n",
              "19281  8.197261  7.640019  8.222058  ...  0.083177      0   0.026617\n",
              "16105  7.867904  9.152494  0.744260  ...  0.056038      0   0.017932\n",
              "...         ...       ...       ...  ...       ...    ...        ...\n",
              "8977   4.622528  6.311079  1.447743  ... -0.003830      1  -0.000613\n",
              "22824  8.678593  0.528542  3.655324  ... -0.042117      1  -0.006739\n",
              "32747  6.878462  9.900298  3.404691  ...  0.031491      0   0.010077\n",
              "41076  1.966714  8.313682  3.249799  ... -0.021402      1  -0.003424\n",
              "14351  3.606443  7.287684  5.906712  ...  0.085759      0   0.027443\n",
              "\n",
              "[60000 rows x 15 columns]"
            ]
          },
          "metadata": {
            "tags": []
          },
          "execution_count": 6
        }
      ]
    },
    {
      "cell_type": "code",
      "metadata": {
        "colab": {
          "base_uri": "https://localhost:8080/"
        },
        "id": "3_FK6fnwmMVS",
        "outputId": "5b29b1d1-ccb2-4ed2-88c1-3be258096a67"
      },
      "source": [
        "#Linear Regression Algo with 1 input(stab) and 1 output(unit price)\n",
        "X = df.iloc[:,12:13].values\n",
        "X\n",
        "y = df.iloc[:,14:15].values\n",
        "y"
      ],
      "execution_count": 7,
      "outputs": [
        {
          "output_type": "execute_result",
          "data": {
            "text/plain": [
              "array([[-0.00566878],\n",
              "       [-0.00486115],\n",
              "       [ 0.00607821],\n",
              "       ...,\n",
              "       [ 0.01007713],\n",
              "       [-0.00342435],\n",
              "       [ 0.02744285]])"
            ]
          },
          "metadata": {
            "tags": []
          },
          "execution_count": 7
        }
      ]
    },
    {
      "cell_type": "code",
      "metadata": {
        "id": "6HKIrEUbm6Un"
      },
      "source": [
        "#splitting 80/20\n",
        "from sklearn.model_selection import train_test_split\n",
        "X_train,X_test,y_train,y_test = train_test_split(X,y,test_size = 0.20,random_state = 1)"
      ],
      "execution_count": 8,
      "outputs": []
    },
    {
      "cell_type": "code",
      "metadata": {
        "colab": {
          "base_uri": "https://localhost:8080/",
          "height": 282
        },
        "id": "OdJPRnsrnBEq",
        "outputId": "e96a91aa-c3c7-4039-b9ee-0c1c8be83a30"
      },
      "source": [
        "# Linear Regression algo\n",
        "\n",
        "reg = linear_model.LinearRegression()\n",
        "reg.fit(X_train,y_train)\n",
        "plt.plot(X_train, y_train)\n",
        "accuracy = reg.score(X_test,y_test)\n",
        "print(\"Accuracy = \",accuracy*100,'%')"
      ],
      "execution_count": 10,
      "outputs": [
        {
          "output_type": "stream",
          "text": [
            "Accuracy =  98.00450386903412 %\n"
          ],
          "name": "stdout"
        },
        {
          "output_type": "display_data",
          "data": {
            "image/png": "[encoded data removed]",
            "text/plain": [
              "<Figure size 432x288 with 1 Axes>"
            ]
          },
          "metadata": {
            "tags": [],
            "needs_background": "light"
          }
        }
      ]
    },
    {
      "cell_type": "code",
      "metadata": {
        "colab": {
          "base_uri": "https://localhost:8080/",
          "height": 265
        },
        "id": "qq7D6yiZ8S1N",
        "outputId": "9b5abbc3-4384-4a9b-eff1-98a37d6f3293"
      },
      "source": [
        "#Decision Tree Regression Algo\n",
        "\n",
        "decisionTree = tree.DecisionTreeRegressor()\n",
        "decisionTree = decisionTree.fit(X_train, y_train)\n",
        "tree.plot_tree(decisionTree) \n",
        "accuracy = decisionTree.score(X_test,y_test)\n",
        "print(\"Accuracy = \",accuracy*100,'%')"
      ],
      "execution_count": 11,
      "outputs": [
        {
          "output_type": "stream",
          "text": [
            "Accuracy =  99.94866139721731 %\n"
          ],
          "name": "stdout"
        },
        {
          "output_type": "display_data",
          "data": {
            "image/png": "[encoded data removed]",
            "text/plain": [
              "<Figure size 432x288 with 1 Axes>"
            ]
          },
          "metadata": {
            "tags": [],
            "needs_background": "light"
          }
        }
      ]
    },
    {
      "cell_type": "code",
      "metadata": {
        "colab": {
          "base_uri": "https://localhost:8080/",
          "height": 282
        },
        "id": "uDbGwwrb9VF3",
        "outputId": "7bc607f1-f100-438c-ecfb-3eabcd7c7dfa"
      },
      "source": [
        "#Ridge Regression Algo\n",
        "ridge = Ridge(alpha=1.0)\n",
        "ridge.fit(X_train, y_train)\n",
        "plt.plot(X_train, y_train)\n",
        "accuracy = ridge.score(X_test,y_test)\n",
        "print(\"Accuracy = \",accuracy*100,'%')"
      ],
      "execution_count": 12,
      "outputs": [
        {
          "output_type": "stream",
          "text": [
            "Accuracy =  97.98726976972092 %\n"
          ],
          "name": "stdout"
        },
        {
          "output_type": "display_data",
          "data": {
            "image/png": "[encoded data removed]",
            "text/plain": [
              "<Figure size 432x288 with 1 Axes>"
            ]
          },
          "metadata": {
            "tags": [],
            "needs_background": "light"
          }
        }
      ]
    },
    {
      "cell_type": "code",
      "metadata": {
        "colab": {
          "base_uri": "https://localhost:8080/"
        },
        "id": "BDxU3LVu-Bl1",
        "outputId": "3dcf4a10-bc32-4e3b-98bd-a495438870f2"
      },
      "source": [
        "#SVM Regression Algo\n",
        "from sklearn.svm import SVR\n",
        "from sklearn.pipeline import make_pipeline\n",
        "from sklearn.preprocessing import StandardScaler\n",
        "\n",
        "regr = make_pipeline(StandardScaler(), SVR(C=1.0, epsilon=0.2))\n",
        "regr.fit(X_train, y_train)\n",
        "prediction = regr.predict(X_test)\n",
        "accuracy = regr.score(y_test,prediction)\n",
        "print(\"Accuracy = \",accuracy*100,'%')\n"
      ],
      "execution_count": 57,
      "outputs": [
        {
          "output_type": "stream",
          "text": [
            "Accuracy =  100.0 %\n"
          ],
          "name": "stdout"
        },
        {
          "output_type": "stream",
          "text": [
            "/usr/local/lib/python3.7/dist-packages/sklearn/utils/validation.py:760: DataConversionWarning: A column-vector y was passed when a 1d array was expected. Please change the shape of y to (n_samples, ), for example using ravel().\n",
            "  y = column_or_1d(y, warn=True)\n"
          ],
          "name": "stderr"
        }
      ]
    },
    {
      "cell_type": "code",
      "metadata": {
        "colab": {
          "base_uri": "https://localhost:8080/"
        },
        "id": "hS1kqqozDDkv",
        "outputId": "8f818fb4-ffa6-489c-c67e-e93d0f0e2389"
      },
      "source": [
        "#Random Forest Regression Algo\n",
        "regr = RandomForestRegressor(max_depth=2, random_state=0)\n",
        "regr.fit(X_train, y_train)\n",
        "# prediction = regr.predict(X_test)\n",
        "accuracy = regr.score(X_test,y_test)\n",
        "print(\"Accuracy = \",accuracy*100,'%')"
      ],
      "execution_count": 13,
      "outputs": [
        {
          "output_type": "stream",
          "text": [
            "/usr/local/lib/python3.7/dist-packages/ipykernel_launcher.py:3: DataConversionWarning: A column-vector y was passed when a 1d array was expected. Please change the shape of y to (n_samples,), for example using ravel().\n",
            "  This is separate from the ipykernel package so we can avoid doing imports until\n"
          ],
          "name": "stderr"
        },
        {
          "output_type": "stream",
          "text": [
            "Accuracy =  92.58807468646744 %\n"
          ],
          "name": "stdout"
        }
      ]
    }
  ]
}